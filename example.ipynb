{
 "cells": [
  {
   "cell_type": "code",
   "execution_count": 2,
   "id": "d43b193f-f3c6-4522-bbb4-cf2e8113234c",
   "metadata": {},
   "outputs": [],
   "source": [
    "import hashlib\n",
    "import binascii\n",
    "import os"
   ]
  },
  {
   "cell_type": "code",
   "execution_count": 3,
   "id": "33fe8a12-e1ee-4db1-9eb5-e8b8798b8ae3",
   "metadata": {},
   "outputs": [
    {
     "name": "stdout",
     "output_type": "stream",
     "text": [
      "Derived key: 023381af3ecc327aa2f51bbf82fe2f9ddd43e7e77d4f48b5340f797e8eb0ca49\n"
     ]
    }
   ],
   "source": [
    "key_salt_hex = '1a9b215a7ee8a2d35efcb731e145b6b9f8ce857fd404fe02ac0dfe10e9df1d90'\n",
    "api_key_hex = '29b70715c4e625cd59d15984801917dae57cd3976eeb05cafa1d99f69854e83f'\n",
    "\n",
    "# key = pbkdf2(api_key, key_salt, 1000, 'SHA256',32)\n",
    "key = hashlib.pbkdf2_hmac(\"sha256\", bytes(api_key_hex, 'utf-8'), bytes(key_salt_hex, 'utf-8'), 1000, 32)\n",
    "\n",
    "print(\"Derived key:\", bytes.decode(binascii.hexlify(key), 'utf-8'))"
   ]
  },
  {
   "cell_type": "code",
   "execution_count": null,
   "id": "adfff288-ae17-400b-8548-15ff578d3b49",
   "metadata": {},
   "outputs": [],
   "source": []
  }
 ],
 "metadata": {
  "kernelspec": {
   "display_name": "Python 3 (ipykernel)",
   "language": "python",
   "name": "python3"
  },
  "language_info": {
   "codemirror_mode": {
    "name": "ipython",
    "version": 3
   },
   "file_extension": ".py",
   "mimetype": "text/x-python",
   "name": "python",
   "nbconvert_exporter": "python",
   "pygments_lexer": "ipython3",
   "version": "3.7.13"
  }
 },
 "nbformat": 4,
 "nbformat_minor": 5
}
